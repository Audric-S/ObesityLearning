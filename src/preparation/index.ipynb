{
 "cells": [
  {
   "cell_type": "code",
   "execution_count": 16,
   "metadata": {},
   "outputs": [],
   "source": [
    "# Importation des bibliothèques et modules\n",
    "import numpy as np\n",
    "import pandas as pd\n",
    "import matplotlib.pyplot as plt\n",
    "import sklearn as sk\n",
    "\n",
    "from sklearn.linear_model import LinearRegression\n",
    "from sklearn.model_selection import train_test_split\n",
    "from sklearn.tree import DecisionTreeClassifier\n",
    "from sklearn.metrics import accuracy_score\n",
    "from sklearn.neighbors import KNeighborsClassifier\n",
    "from sklearn import svm\n",
    "from sklearn.preprocessing import LabelEncoder\n"
   ]
  },
  {
   "cell_type": "code",
   "execution_count": 101,
   "metadata": {},
   "outputs": [
    {
     "name": "stdout",
     "output_type": "stream",
     "text": [
      "<class 'pandas.core.frame.DataFrame'>\n",
      "RangeIndex: 2111 entries, 0 to 2110\n",
      "Data columns (total 17 columns):\n",
      " #   Column                          Non-Null Count  Dtype  \n",
      "---  ------                          --------------  -----  \n",
      " 0   Gender                          2111 non-null   object \n",
      " 1   Age                             2111 non-null   float64\n",
      " 2   Height                          2111 non-null   float64\n",
      " 3   Weight                          2111 non-null   float64\n",
      " 4   family_history_with_overweight  2111 non-null   object \n",
      " 5   FAVC                            2111 non-null   object \n",
      " 6   FCVC                            2111 non-null   float64\n",
      " 7   NCP                             2111 non-null   float64\n",
      " 8   CAEC                            2111 non-null   object \n",
      " 9   SMOKE                           2111 non-null   object \n",
      " 10  CH2O                            2111 non-null   float64\n",
      " 11  SCC                             2111 non-null   object \n",
      " 12  FAF                             2111 non-null   float64\n",
      " 13  TUE                             2111 non-null   float64\n",
      " 14  CALC                            2111 non-null   object \n",
      " 15  MTRANS                          2111 non-null   object \n",
      " 16  NObeyesdad                      2111 non-null   object \n",
      "dtypes: float64(8), object(9)\n",
      "memory usage: 280.5+ KB\n"
     ]
    }
   ],
   "source": [
    "# Charger jeu de données\n",
    "x = pd.read_csv('../data/dataset.csv')\n",
    "x.info()"
   ]
  },
  {
   "cell_type": "code",
   "execution_count": 113,
   "metadata": {},
   "outputs": [
    {
     "name": "stdout",
     "output_type": "stream",
     "text": [
      "0       2\n",
      "1       2\n",
      "2       2\n",
      "3       2\n",
      "4       2\n",
      "       ..\n",
      "2106    2\n",
      "2107    2\n",
      "2108    2\n",
      "2109    2\n",
      "2110    2\n",
      "Name: CAEC, Length: 2111, dtype: int64\n",
      "53\n",
      "242\n",
      "1765\n",
      "51\n"
     ]
    }
   ],
   "source": [
    "# print(x.CAEC)\n",
    "\n",
    "print((x[x.CAEC == 0]).shape[0])\n",
    "print((x[x.CAEC == 1]).shape[0])\n",
    "print((x[x.CAEC == 2]).shape[0])\n",
    "print((x[x.CAEC == 3]).shape[0])\n"
   ]
  },
  {
   "cell_type": "code",
   "execution_count": 48,
   "metadata": {},
   "outputs": [
    {
     "name": "stdout",
     "output_type": "stream",
     "text": [
      "Normal_Weight 287\n",
      "Overweight_Level_I 290\n",
      "Overweight_Level_II 290\n",
      "Obesity_Type_I 351\n",
      "Insufficient_Weight 272\n",
      "Obesity_Type_II 297\n",
      "Obesity_Type_III 324\n"
     ]
    }
   ],
   "source": [
    "##### Analyse des données #####\n",
    "\n",
    "# Regarder la répartition des données selon les différentes valeurs de la variable cible\n",
    "multi_classe = x['NObeyesdad'].unique()\n",
    "\n",
    "for i in multi_classe :\n",
    "    print(i, x[x['NObeyesdad'] == i].shape[0])\n",
    "\n",
    "## Résultat ##\n",
    "## Pas besoin de sous/sur échantillonage car les données sont bien répartis\n",
    "## On a pas un type de variable cible qui est sous/sur représenté par rapport aux autres"
   ]
  },
  {
   "cell_type": "code",
   "execution_count": 55,
   "metadata": {},
   "outputs": [
    {
     "data": {
      "text/plain": [
       "0             Normal_Weight\n",
       "1             Normal_Weight\n",
       "2             Normal_Weight\n",
       "3        Overweight_Level_I\n",
       "4       Overweight_Level_II\n",
       "               ...         \n",
       "2106       Obesity_Type_III\n",
       "2107       Obesity_Type_III\n",
       "2108       Obesity_Type_III\n",
       "2109       Obesity_Type_III\n",
       "2110       Obesity_Type_III\n",
       "Name: NObeyesdad, Length: 2111, dtype: object"
      ]
     },
     "execution_count": 55,
     "metadata": {},
     "output_type": "execute_result"
    }
   ],
   "source": [
    "# Séparation de la variable cible\n",
    "y =  x.pop('NObeyesdad')\n",
    "y"
   ]
  },
  {
   "cell_type": "code",
   "execution_count": 127,
   "metadata": {},
   "outputs": [
    {
     "data": {
      "text/plain": [
       "0       2\n",
       "1       2\n",
       "2       2\n",
       "3       2\n",
       "4       2\n",
       "       ..\n",
       "2106    2\n",
       "2107    2\n",
       "2108    2\n",
       "2109    2\n",
       "2110    2\n",
       "Name: CAEC, Length: 2111, dtype: int64"
      ]
     },
     "execution_count": 127,
     "metadata": {},
     "output_type": "execute_result"
    }
   ],
   "source": [
    "#### Transformer la variable cible en variable cible binaire\n",
    "\n",
    "# Utiliser LabelEncoder pour convertir les classes en labels numériques\n",
    "label_encoder = LabelEncoder()\n",
    "labels_numeriques = label_encoder.fit_transform(y)\n",
    "\n",
    "# # Créer une nouvelle colonne binaire (1 pour une classe spécifique, 0 pour les autres)\n",
    "# classe_specifique = 'Obesity_Type_I'  # Remplacez par la classe que vous souhaitez prédire\n",
    "# nouvelle_colonne_binaire = (labels_numeriques == label_encoder.transform([classe_specifique])).astype(int)\n",
    "\n",
    "# # Ajouter la nouvelle colonne binaire à votre dataframe\n",
    "# x['variable_cible_binaire'] = nouvelle_colonne_binaire\n",
    "\n",
    "classe_specifique = ['Obesity_Type_I', 'Obesity_Type_II', 'Obesity_Type_III']  # Remplacez par la classe que vous souhaitez prédire\n",
    "# nouvelle_colonne_binaire = (labels_numeriques == label_encoder.transform([classe_specifique])).astype(int)\n",
    "nouvelle_colonne_binaire = x['NObeyesdad'].isin(classe_specifique).astype(int)\n",
    "# Ajouter la nouvelle colonne binaire à votre dataframe\n",
    "x['variable_cible_binaire'] = nouvelle_colonne_binaire\n",
    "\n",
    "x[x['variable_cible_binaire'] == True].shape[0]\n",
    "\n",
    "x.CAEC"
   ]
  },
  {
   "cell_type": "code",
   "execution_count": 104,
   "metadata": {},
   "outputs": [],
   "source": [
    "#### Transformer les valeurs de la colonne CAEC en valeur numérique\n",
    " \n",
    "# Remplacez 'CAEC' par le nom réel de votre colonne contenant des chaînes de caractères\n",
    "colonne_caec = x['CAEC']\n",
    "\n",
    "# Utiliser LabelEncoder pour convertir les chaînes en labels numériques\n",
    "label_encoder_caec = LabelEncoder()\n",
    "colonne_caec_numerique = label_encoder_caec.fit_transform(colonne_caec)\n",
    "\n",
    "# Remplacer la colonne d'origine par la colonne numérique\n",
    "x['CAEC'] = colonne_caec_numerique\n"
   ]
  },
  {
   "cell_type": "code",
   "execution_count": 15,
   "metadata": {},
   "outputs": [
    {
     "name": "stdout",
     "output_type": "stream",
     "text": [
      "Gender                            0\n",
      "Age                               0\n",
      "Height                            0\n",
      "Weight                            0\n",
      "family_history_with_overweight    0\n",
      "FAVC                              0\n",
      "FCVC                              0\n",
      "NCP                               0\n",
      "CAEC                              0\n",
      "SMOKE                             0\n",
      "CH2O                              0\n",
      "SCC                               0\n",
      "FAF                               0\n",
      "TUE                               0\n",
      "CALC                              0\n",
      "MTRANS                            0\n",
      "dtype: int64\n"
     ]
    }
   ],
   "source": [
    "def preparationdonnee(dataset): \n",
    "    \n",
    "    # regarder si notre dataset contient des valeurs nulls\n",
    "    # print(dataset.isnull().sum())\n",
    "    print(dataset.isna().sum())\n",
    "\n",
    "\n",
    "    return\n",
    "\n",
    "preparationdonnee(x)\n"
   ]
  },
  {
   "cell_type": "code",
   "execution_count": 131,
   "metadata": {},
   "outputs": [
    {
     "data": {
      "text/plain": [
       "Text(0.5, 1.0, \"taille en fonction de l'âge (vert pour Obesity_Type_I, rouge sinon)\")"
      ]
     },
     "execution_count": 131,
     "metadata": {},
     "output_type": "execute_result"
    },
    {
     "data": {
      "image/png": "[encoded data removed]",
      "text/plain": [
       "<Figure size 640x480 with 1 Axes>"
      ]
     },
     "metadata": {},
     "output_type": "display_data"
    }
   ],
   "source": [
    "def get_survived_color(level_hobisity):\n",
    "    return \"blue\" if level_hobisity else \"orange\"\n",
    "\n",
    "for row in x.itertuples():\n",
    "    plt.scatter(row.Height, row.Weight, color=get_survived_color(row.variable_cible_binaire))\n",
    "\n",
    "# Définir une fonction linéaire (par exemple, y = 2x + 3)\n",
    "def fonction_lineaire(x):\n",
    "    return 30*(x**2)\n",
    "\n",
    "# Générer des valeurs pour l'axe x\n",
    "x_valeurs = np.linspace(1.3, 2.1, 100)\n",
    "\n",
    "# Calculer les valeurs correspondantes sur l'axe y en utilisant la fonction linéaire\n",
    "y_valeurs = fonction_lineaire(x_valeurs)\n",
    "\n",
    "# Création du graphe\n",
    "plt.plot(x_valeurs, y_valeurs, label='Droite linéaire')\n",
    "\n",
    "plt.title(\"taille en fonction de l'âge (vert pour Obesity_Type_I, rouge sinon)\")\n",
    "\n",
    "# logique car on se base sur ce calcule (IMC)"
   ]
  },
  {
   "cell_type": "code",
   "execution_count": 1,
   "metadata": {},
   "outputs": [
    {
     "ename": "NameError",
     "evalue": "name 'x' is not defined",
     "output_type": "error",
     "traceback": [
      "\u001b[0;31m---------------------------------------------------------------------------\u001b[0m",
      "\u001b[0;31mNameError\u001b[0m                                 Traceback (most recent call last)",
      "Cell \u001b[0;32mIn[1], line 4\u001b[0m\n\u001b[1;32m      1\u001b[0m N \u001b[38;5;241m=\u001b[39m \u001b[38;5;241m4\u001b[39m \u001b[38;5;66;03m# 3 classes\u001b[39;00m\n\u001b[1;32m      2\u001b[0m width \u001b[38;5;241m=\u001b[39m \u001b[38;5;241m0.35\u001b[39m     \u001b[38;5;66;03m# la largeur des barres\u001b[39;00m\n\u001b[0;32m----> 4\u001b[0m \u001b[38;5;28mprint\u001b[39m(x[x\u001b[38;5;241m.\u001b[39mCAEC \u001b[38;5;241m==\u001b[39m \u001b[38;5;241m0\u001b[39m]\u001b[38;5;241m.\u001b[39mshape[\u001b[38;5;241m0\u001b[39m])\n",
      "\u001b[0;31mNameError\u001b[0m: name 'x' is not defined"
     ]
    }
   ],
   "source": [
    "N = 4 # 3 classes\n",
    "width = 0.35     # la largeur des barres\n",
    " \n",
    "print(x[x.CAEC == 0].shape[0])\n",
    "\n",
    "# survived_per_class = [ x[x.CAEC == i].variable_cible_binaire.sum() for i in [1, 2, 3, 4] ]\n",
    "# not_survived_per_class = [ np.abs(x[x.CAEC == x].variable_cible_binaire - 1).sum() for x in [1, 2, 3] ]\n",
    "# ind = np.arange(N)    \n",
    "\n",
    "# p1 = plt.bar(ind, survived_per_class, width)\n",
    "# p2 = plt.bar(ind, not_survived_per_class, width,\n",
    "#              bottom=survived_per_class)\n",
    "\n",
    "# plt.ylabel('Nombre de personnes')\n",
    "# plt.title('Survie par classe')\n",
    "# plt.xticks(ind, ('1', '2', '3', '4'))\n",
    "# plt.legend((p1[0], p2[0]), ('Obesity_Type_I', 'autre'))"
   ]
  },
  {
   "cell_type": "code",
   "execution_count": null,
   "metadata": {},
   "outputs": [],
   "source": [
    "# def testermodele():\n",
    "\n",
    "#     return"
   ]
  }
 ],
 "metadata": {
  "kernelspec": {
   "display_name": "base",
   "language": "python",
   "name": "python3"
  },
  "language_info": {
   "codemirror_mode": {
    "name": "ipython",
    "version": 3
   },
   "file_extension": ".py",
   "mimetype": "text/x-python",
   "name": "python",
   "nbconvert_exporter": "python",
   "pygments_lexer": "ipython3",
   "version": "3.11.5"
  }
 },
 "nbformat": 4,
 "nbformat_minor": 2
}
