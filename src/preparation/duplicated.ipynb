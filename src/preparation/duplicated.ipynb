{
 "cells": [
  {
   "cell_type": "code",
   "execution_count": 12,
   "metadata": {},
   "outputs": [
    {
     "name": "stdout",
     "output_type": "stream",
     "text": [
      "Gender                            2111\n",
      "Age                               2111\n",
      "Height                            2111\n",
      "Weight                            2111\n",
      "family_history_with_overweight    2111\n",
      "FAVC                              2111\n",
      "FCVC                              2111\n",
      "NCP                               2111\n",
      "CAEC                              2111\n",
      "SMOKE                             2111\n",
      "CH2O                              2111\n",
      "SCC                               2111\n",
      "FAF                               2111\n",
      "TUE                               2111\n",
      "CALC                              2111\n",
      "MTRANS                            2111\n",
      "NObeyesdad                        2111\n",
      "dtype: int64\n",
      "Gender                            2087\n",
      "Age                               2087\n",
      "Height                            2087\n",
      "Weight                            2087\n",
      "family_history_with_overweight    2087\n",
      "FAVC                              2087\n",
      "FCVC                              2087\n",
      "NCP                               2087\n",
      "CAEC                              2087\n",
      "SMOKE                             2087\n",
      "CH2O                              2087\n",
      "SCC                               2087\n",
      "FAF                               2087\n",
      "TUE                               2087\n",
      "CALC                              2087\n",
      "MTRANS                            2087\n",
      "NObeyesdad                        2087\n",
      "dtype: int64\n"
     ]
    }
   ],
   "source": [
    "import pandas as pd\n",
    "\n",
    "# charger les données\n",
    "df=pd.read_csv('../data/dataset.csv')\n",
    "\n",
    "print(df.count())\n",
    "\n",
    "# Vérifier les doublons\n",
    "doublons = df.duplicated()\n",
    "df_sans_doublons = df.drop_duplicates()\n",
    "\n",
    "print(df_sans_doublons.count())"
   ]
  }
 ],
 "metadata": {
  "kernelspec": {
   "display_name": "base",
   "language": "python",
   "name": "python3"
  },
  "language_info": {
   "codemirror_mode": {
    "name": "ipython",
    "version": 3
   },
   "file_extension": ".py",
   "mimetype": "text/x-python",
   "name": "python",
   "nbconvert_exporter": "python",
   "pygments_lexer": "ipython3",
   "version": "3.11.5"
  }
 },
 "nbformat": 4,
 "nbformat_minor": 2
}
