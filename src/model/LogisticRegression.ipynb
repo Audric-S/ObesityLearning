{
 "cells": [
  {
   "cell_type": "code",
   "execution_count": 13,
   "metadata": {},
   "outputs": [
    {
     "name": "stdout",
     "output_type": "stream",
     "text": [
      "Accuracy: 0.8770685579196218\n",
      "Confusion Matrix:\n",
      "[[56  0  0  0  0  0  0]\n",
      " [ 8 42  0  0  0  8  4]\n",
      " [ 0  0 68  9  0  0  1]\n",
      " [ 0  0  2 56  0  0  0]\n",
      " [ 0  0  0  0 63  0  0]\n",
      " [ 0  4  0  0  0 43  9]\n",
      " [ 0  0  2  0  0  5 43]]\n"
     ]
    }
   ],
   "source": [
    "import pandas as pd\n",
    "from sklearn.model_selection import train_test_split\n",
    "from sklearn.linear_model import LogisticRegression\n",
    "from sklearn.preprocessing import StandardScaler\n",
    "from sklearn.metrics import accuracy_score, confusion_matrix, classification_report\n",
    "\n",
    "# Load dataset\n",
    "X = pd.read_csv('../data/new_dataset.csv')\n",
    "\n",
    "# Convert categorical columns to numerical using one-hot encoding\n",
    "# data = pd.get_dummies(data, columns=['Gender', 'family_history_with_overweight', 'FAVC', 'CAEC', 'SMOKE', 'SCC', 'CALC', 'MTRANS'])\n",
    "\n",
    "# print(data.describe())\n",
    "\n",
    "# Use the correct target column name\n",
    "# X = data.drop('NObeyesdad', axis=1)  # Features\n",
    "# y = data['NObeyesdad']  # Target variable\n",
    "\n",
    "y = X.pop(\"NObeyesdad\")\n",
    "\n",
    "# Split the data into training and testing sets\n",
    "X_train, X_test, y_train, y_test = train_test_split(X, y, test_size=0.2, random_state=42)\n",
    "\n",
    "# Feature scaling\n",
    "scaler = StandardScaler()\n",
    "X_train = scaler.fit_transform(X_train)\n",
    "X_test = scaler.transform(X_test)\n",
    "\n",
    "# Initialize the Logistic Regression model with increased max_iter\n",
    "model = LogisticRegression(max_iter=10000)\n",
    "\n",
    "# Train the model\n",
    "model.fit(X_train, y_train)\n",
    "\n",
    "# Predict using the trained model\n",
    "y_pred = model.predict(X_test)\n",
    "\n",
    "# Calculate accuracy\n",
    "accuracy = accuracy_score(y_test, y_pred)\n",
    "print(f\"Accuracy: {accuracy}\")\n",
    "\n",
    "# Confusion Matrix and Classification Report\n",
    "confusion = confusion_matrix(y_test, y_pred)\n",
    "# classification_rep = classification_report(y_test, y_pred)\n",
    "print(\"Confusion Matrix:\")\n",
    "print(confusion)\n",
    "# print(\"Classification Report:\")\n",
    "# print(classification_rep)\n"
   ]
  }
 ],
 "metadata": {
  "kernelspec": {
   "display_name": "base",
   "language": "python",
   "name": "python3"
  },
  "language_info": {
   "codemirror_mode": {
    "name": "ipython",
    "version": 3
   },
   "file_extension": ".py",
   "mimetype": "text/x-python",
   "name": "python",
   "nbconvert_exporter": "python",
   "pygments_lexer": "ipython3",
   "version": "3.11.5"
  }
 },
 "nbformat": 4,
 "nbformat_minor": 2
}
